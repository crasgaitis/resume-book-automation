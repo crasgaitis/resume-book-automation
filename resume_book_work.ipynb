{
  "nbformat": 4,
  "nbformat_minor": 0,
  "metadata": {
    "colab": {
      "provenance": []
    },
    "kernelspec": {
      "name": "python3",
      "display_name": "Python 3"
    },
    "language_info": {
      "name": "python"
    }
  },
  "cells": [
    {
      "cell_type": "markdown",
      "source": [
        "# Load change requests (df) resume book (resume_book) dataframes."
      ],
      "metadata": {
        "id": "Q_KeP8S1cxFa"
      }
    },
    {
      "cell_type": "code",
      "execution_count": 18,
      "metadata": {
        "colab": {
          "base_uri": "https://localhost:8080/",
          "height": 461
        },
        "id": "9tSghP2cXkR_",
        "outputId": "199a675d-52cd-404a-f7dc-b705eab7ff4f"
      },
      "outputs": [
        {
          "output_type": "execute_result",
          "data": {
            "text/plain": [
              "    Done?           Timestamp              Email Address First Name  \\\n",
              "780   NaN  9/30/2024 14:52:08  myan266@cs.washington.edu       Ming   \n",
              "781   NaN  9/30/2024 15:33:43  emiyosh@cs.washington.edu        Emi   \n",
              "\n",
              "     Last Name Preferred Name Pronouns                      Email   \\\n",
              "780        Yan            NaN      NaN              myan266@uw.edu   \n",
              "781  Yoshikawa            Emi  she/her  emiyoshikawa.dev@gmail.com   \n",
              "\n",
              "    Do you want to add, update, or remove your resume? Graduation Quarter  \\\n",
              "780  I already have a resume in this book and want ...             Spring   \n",
              "781  I already have a resume in this book and want ...             Autumn   \n",
              "\n",
              "     Graduation Year Are you looking for an internship or full-time position?  \\\n",
              "780           2028.0                                         Internship         \n",
              "781           2024.0                                          Full time         \n",
              "\n",
              "      What types of roles are you looking for?  \\\n",
              "780  Software Development/Software Engineering   \n",
              "781  Software Development/Software Engineering   \n",
              "\n",
              "    Please copy/paste the text from your resume here. It is ok if it's not pretty! We just want your info to be easily searchable.   \\\n",
              "780                                                NaN                                                                                \n",
              "781  OBJECTIVE\\nEMI YOSHIKAWA\\n+1(425)606-8565 ⋄ em...                                                                                \n",
              "\n",
              "                                         Upload Resume  \\\n",
              "780  https://drive.google.com/open?id=1UYfRrEhCYwGZ...   \n",
              "781  https://drive.google.com/open?id=1duuA-4z_kHJ6...   \n",
              "\n",
              "    Why do you want your resume removed?  \n",
              "780                                  NaN  \n",
              "781                                  NaN  "
            ],
            "text/html": [
              "\n",
              "  <div id=\"df-59bdf1be-22b7-4a0c-8473-24ea4de52798\" class=\"colab-df-container\">\n",
              "    <div>\n",
              "<style scoped>\n",
              "    .dataframe tbody tr th:only-of-type {\n",
              "        vertical-align: middle;\n",
              "    }\n",
              "\n",
              "    .dataframe tbody tr th {\n",
              "        vertical-align: top;\n",
              "    }\n",
              "\n",
              "    .dataframe thead th {\n",
              "        text-align: right;\n",
              "    }\n",
              "</style>\n",
              "<table border=\"1\" class=\"dataframe\">\n",
              "  <thead>\n",
              "    <tr style=\"text-align: right;\">\n",
              "      <th></th>\n",
              "      <th>Done?</th>\n",
              "      <th>Timestamp</th>\n",
              "      <th>Email Address</th>\n",
              "      <th>First Name</th>\n",
              "      <th>Last Name</th>\n",
              "      <th>Preferred Name</th>\n",
              "      <th>Pronouns</th>\n",
              "      <th>Email</th>\n",
              "      <th>Do you want to add, update, or remove your resume?</th>\n",
              "      <th>Graduation Quarter</th>\n",
              "      <th>Graduation Year</th>\n",
              "      <th>Are you looking for an internship or full-time position?</th>\n",
              "      <th>What types of roles are you looking for?</th>\n",
              "      <th>Please copy/paste the text from your resume here. It is ok if it's not pretty! We just want your info to be easily searchable.</th>\n",
              "      <th>Upload Resume</th>\n",
              "      <th>Why do you want your resume removed?</th>\n",
              "    </tr>\n",
              "  </thead>\n",
              "  <tbody>\n",
              "    <tr>\n",
              "      <th>780</th>\n",
              "      <td>NaN</td>\n",
              "      <td>9/30/2024 14:52:08</td>\n",
              "      <td>myan266@cs.washington.edu</td>\n",
              "      <td>Ming</td>\n",
              "      <td>Yan</td>\n",
              "      <td>NaN</td>\n",
              "      <td>NaN</td>\n",
              "      <td>myan266@uw.edu</td>\n",
              "      <td>I already have a resume in this book and want ...</td>\n",
              "      <td>Spring</td>\n",
              "      <td>2028.0</td>\n",
              "      <td>Internship</td>\n",
              "      <td>Software Development/Software Engineering</td>\n",
              "      <td>NaN</td>\n",
              "      <td>https://drive.google.com/open?id=1UYfRrEhCYwGZ...</td>\n",
              "      <td>NaN</td>\n",
              "    </tr>\n",
              "    <tr>\n",
              "      <th>781</th>\n",
              "      <td>NaN</td>\n",
              "      <td>9/30/2024 15:33:43</td>\n",
              "      <td>emiyosh@cs.washington.edu</td>\n",
              "      <td>Emi</td>\n",
              "      <td>Yoshikawa</td>\n",
              "      <td>Emi</td>\n",
              "      <td>she/her</td>\n",
              "      <td>emiyoshikawa.dev@gmail.com</td>\n",
              "      <td>I already have a resume in this book and want ...</td>\n",
              "      <td>Autumn</td>\n",
              "      <td>2024.0</td>\n",
              "      <td>Full time</td>\n",
              "      <td>Software Development/Software Engineering</td>\n",
              "      <td>OBJECTIVE\\nEMI YOSHIKAWA\\n+1(425)606-8565 ⋄ em...</td>\n",
              "      <td>https://drive.google.com/open?id=1duuA-4z_kHJ6...</td>\n",
              "      <td>NaN</td>\n",
              "    </tr>\n",
              "  </tbody>\n",
              "</table>\n",
              "</div>\n",
              "    <div class=\"colab-df-buttons\">\n",
              "\n",
              "  <div class=\"colab-df-container\">\n",
              "    <button class=\"colab-df-convert\" onclick=\"convertToInteractive('df-59bdf1be-22b7-4a0c-8473-24ea4de52798')\"\n",
              "            title=\"Convert this dataframe to an interactive table.\"\n",
              "            style=\"display:none;\">\n",
              "\n",
              "  <svg xmlns=\"http://www.w3.org/2000/svg\" height=\"24px\" viewBox=\"0 -960 960 960\">\n",
              "    <path d=\"M120-120v-720h720v720H120Zm60-500h600v-160H180v160Zm220 220h160v-160H400v160Zm0 220h160v-160H400v160ZM180-400h160v-160H180v160Zm440 0h160v-160H620v160ZM180-180h160v-160H180v160Zm440 0h160v-160H620v160Z\"/>\n",
              "  </svg>\n",
              "    </button>\n",
              "\n",
              "  <style>\n",
              "    .colab-df-container {\n",
              "      display:flex;\n",
              "      gap: 12px;\n",
              "    }\n",
              "\n",
              "    .colab-df-convert {\n",
              "      background-color: #E8F0FE;\n",
              "      border: none;\n",
              "      border-radius: 50%;\n",
              "      cursor: pointer;\n",
              "      display: none;\n",
              "      fill: #1967D2;\n",
              "      height: 32px;\n",
              "      padding: 0 0 0 0;\n",
              "      width: 32px;\n",
              "    }\n",
              "\n",
              "    .colab-df-convert:hover {\n",
              "      background-color: #E2EBFA;\n",
              "      box-shadow: 0px 1px 2px rgba(60, 64, 67, 0.3), 0px 1px 3px 1px rgba(60, 64, 67, 0.15);\n",
              "      fill: #174EA6;\n",
              "    }\n",
              "\n",
              "    .colab-df-buttons div {\n",
              "      margin-bottom: 4px;\n",
              "    }\n",
              "\n",
              "    [theme=dark] .colab-df-convert {\n",
              "      background-color: #3B4455;\n",
              "      fill: #D2E3FC;\n",
              "    }\n",
              "\n",
              "    [theme=dark] .colab-df-convert:hover {\n",
              "      background-color: #434B5C;\n",
              "      box-shadow: 0px 1px 3px 1px rgba(0, 0, 0, 0.15);\n",
              "      filter: drop-shadow(0px 1px 2px rgba(0, 0, 0, 0.3));\n",
              "      fill: #FFFFFF;\n",
              "    }\n",
              "  </style>\n",
              "\n",
              "    <script>\n",
              "      const buttonEl =\n",
              "        document.querySelector('#df-59bdf1be-22b7-4a0c-8473-24ea4de52798 button.colab-df-convert');\n",
              "      buttonEl.style.display =\n",
              "        google.colab.kernel.accessAllowed ? 'block' : 'none';\n",
              "\n",
              "      async function convertToInteractive(key) {\n",
              "        const element = document.querySelector('#df-59bdf1be-22b7-4a0c-8473-24ea4de52798');\n",
              "        const dataTable =\n",
              "          await google.colab.kernel.invokeFunction('convertToInteractive',\n",
              "                                                    [key], {});\n",
              "        if (!dataTable) return;\n",
              "\n",
              "        const docLinkHtml = 'Like what you see? Visit the ' +\n",
              "          '<a target=\"_blank\" href=https://colab.research.google.com/notebooks/data_table.ipynb>data table notebook</a>'\n",
              "          + ' to learn more about interactive tables.';\n",
              "        element.innerHTML = '';\n",
              "        dataTable['output_type'] = 'display_data';\n",
              "        await google.colab.output.renderOutput(dataTable, element);\n",
              "        const docLink = document.createElement('div');\n",
              "        docLink.innerHTML = docLinkHtml;\n",
              "        element.appendChild(docLink);\n",
              "      }\n",
              "    </script>\n",
              "  </div>\n",
              "\n",
              "\n",
              "<div id=\"df-500f47cf-0b69-4d80-a806-7aafd8117f6a\">\n",
              "  <button class=\"colab-df-quickchart\" onclick=\"quickchart('df-500f47cf-0b69-4d80-a806-7aafd8117f6a')\"\n",
              "            title=\"Suggest charts\"\n",
              "            style=\"display:none;\">\n",
              "\n",
              "<svg xmlns=\"http://www.w3.org/2000/svg\" height=\"24px\"viewBox=\"0 0 24 24\"\n",
              "     width=\"24px\">\n",
              "    <g>\n",
              "        <path d=\"M19 3H5c-1.1 0-2 .9-2 2v14c0 1.1.9 2 2 2h14c1.1 0 2-.9 2-2V5c0-1.1-.9-2-2-2zM9 17H7v-7h2v7zm4 0h-2V7h2v10zm4 0h-2v-4h2v4z\"/>\n",
              "    </g>\n",
              "</svg>\n",
              "  </button>\n",
              "\n",
              "<style>\n",
              "  .colab-df-quickchart {\n",
              "      --bg-color: #E8F0FE;\n",
              "      --fill-color: #1967D2;\n",
              "      --hover-bg-color: #E2EBFA;\n",
              "      --hover-fill-color: #174EA6;\n",
              "      --disabled-fill-color: #AAA;\n",
              "      --disabled-bg-color: #DDD;\n",
              "  }\n",
              "\n",
              "  [theme=dark] .colab-df-quickchart {\n",
              "      --bg-color: #3B4455;\n",
              "      --fill-color: #D2E3FC;\n",
              "      --hover-bg-color: #434B5C;\n",
              "      --hover-fill-color: #FFFFFF;\n",
              "      --disabled-bg-color: #3B4455;\n",
              "      --disabled-fill-color: #666;\n",
              "  }\n",
              "\n",
              "  .colab-df-quickchart {\n",
              "    background-color: var(--bg-color);\n",
              "    border: none;\n",
              "    border-radius: 50%;\n",
              "    cursor: pointer;\n",
              "    display: none;\n",
              "    fill: var(--fill-color);\n",
              "    height: 32px;\n",
              "    padding: 0;\n",
              "    width: 32px;\n",
              "  }\n",
              "\n",
              "  .colab-df-quickchart:hover {\n",
              "    background-color: var(--hover-bg-color);\n",
              "    box-shadow: 0 1px 2px rgba(60, 64, 67, 0.3), 0 1px 3px 1px rgba(60, 64, 67, 0.15);\n",
              "    fill: var(--button-hover-fill-color);\n",
              "  }\n",
              "\n",
              "  .colab-df-quickchart-complete:disabled,\n",
              "  .colab-df-quickchart-complete:disabled:hover {\n",
              "    background-color: var(--disabled-bg-color);\n",
              "    fill: var(--disabled-fill-color);\n",
              "    box-shadow: none;\n",
              "  }\n",
              "\n",
              "  .colab-df-spinner {\n",
              "    border: 2px solid var(--fill-color);\n",
              "    border-color: transparent;\n",
              "    border-bottom-color: var(--fill-color);\n",
              "    animation:\n",
              "      spin 1s steps(1) infinite;\n",
              "  }\n",
              "\n",
              "  @keyframes spin {\n",
              "    0% {\n",
              "      border-color: transparent;\n",
              "      border-bottom-color: var(--fill-color);\n",
              "      border-left-color: var(--fill-color);\n",
              "    }\n",
              "    20% {\n",
              "      border-color: transparent;\n",
              "      border-left-color: var(--fill-color);\n",
              "      border-top-color: var(--fill-color);\n",
              "    }\n",
              "    30% {\n",
              "      border-color: transparent;\n",
              "      border-left-color: var(--fill-color);\n",
              "      border-top-color: var(--fill-color);\n",
              "      border-right-color: var(--fill-color);\n",
              "    }\n",
              "    40% {\n",
              "      border-color: transparent;\n",
              "      border-right-color: var(--fill-color);\n",
              "      border-top-color: var(--fill-color);\n",
              "    }\n",
              "    60% {\n",
              "      border-color: transparent;\n",
              "      border-right-color: var(--fill-color);\n",
              "    }\n",
              "    80% {\n",
              "      border-color: transparent;\n",
              "      border-right-color: var(--fill-color);\n",
              "      border-bottom-color: var(--fill-color);\n",
              "    }\n",
              "    90% {\n",
              "      border-color: transparent;\n",
              "      border-bottom-color: var(--fill-color);\n",
              "    }\n",
              "  }\n",
              "</style>\n",
              "\n",
              "  <script>\n",
              "    async function quickchart(key) {\n",
              "      const quickchartButtonEl =\n",
              "        document.querySelector('#' + key + ' button');\n",
              "      quickchartButtonEl.disabled = true;  // To prevent multiple clicks.\n",
              "      quickchartButtonEl.classList.add('colab-df-spinner');\n",
              "      try {\n",
              "        const charts = await google.colab.kernel.invokeFunction(\n",
              "            'suggestCharts', [key], {});\n",
              "      } catch (error) {\n",
              "        console.error('Error during call to suggestCharts:', error);\n",
              "      }\n",
              "      quickchartButtonEl.classList.remove('colab-df-spinner');\n",
              "      quickchartButtonEl.classList.add('colab-df-quickchart-complete');\n",
              "    }\n",
              "    (() => {\n",
              "      let quickchartButtonEl =\n",
              "        document.querySelector('#df-500f47cf-0b69-4d80-a806-7aafd8117f6a button');\n",
              "      quickchartButtonEl.style.display =\n",
              "        google.colab.kernel.accessAllowed ? 'block' : 'none';\n",
              "    })();\n",
              "  </script>\n",
              "</div>\n",
              "\n",
              "    </div>\n",
              "  </div>\n"
            ],
            "application/vnd.google.colaboratory.intrinsic+json": {
              "type": "dataframe",
              "variable_name": "df",
              "repr_error": "0"
            }
          },
          "metadata": {},
          "execution_count": 18
        }
      ],
      "source": [
        "import pandas as pd\n",
        "\n",
        "csv_url = f\"https://docs.google.com/spreadsheets/d/1IgOnbPhOoCRDBcTf9FIHwP54rHwcqSyKSJTE-XKNnJw/export?format=csv&gid=523778578\"\n",
        "df = pd.read_csv(csv_url)\n",
        "df = df[df['Done?'] != 'yes']\n",
        "df.head(2)"
      ]
    },
    {
      "cell_type": "code",
      "source": [
        "print(f\"There are {len(df)} updates to make.\")\n",
        "df['Do you want to add, update, or remove your resume?'].value_counts()"
      ],
      "metadata": {
        "colab": {
          "base_uri": "https://localhost:8080/",
          "height": 227
        },
        "id": "DpAihNXFbe9g",
        "outputId": "c1f8007d-7642-4f39-a61b-c6340a1efe34"
      },
      "execution_count": 19,
      "outputs": [
        {
          "output_type": "stream",
          "name": "stdout",
          "text": [
            "There are 222 updates to make.\n"
          ]
        },
        {
          "output_type": "execute_result",
          "data": {
            "text/plain": [
              "Do you want to add, update, or remove your resume?\n",
              "I already have a resume in this book and want to update it to a newer version or update my information in the survey.    217\n",
              "Add my first resume to this resume book                                                                                    3\n",
              "I am no longer looking for a position and wish to remove my resume.                                                        2\n",
              "Name: count, dtype: int64"
            ],
            "text/html": [
              "<div>\n",
              "<style scoped>\n",
              "    .dataframe tbody tr th:only-of-type {\n",
              "        vertical-align: middle;\n",
              "    }\n",
              "\n",
              "    .dataframe tbody tr th {\n",
              "        vertical-align: top;\n",
              "    }\n",
              "\n",
              "    .dataframe thead th {\n",
              "        text-align: right;\n",
              "    }\n",
              "</style>\n",
              "<table border=\"1\" class=\"dataframe\">\n",
              "  <thead>\n",
              "    <tr style=\"text-align: right;\">\n",
              "      <th></th>\n",
              "      <th>count</th>\n",
              "    </tr>\n",
              "    <tr>\n",
              "      <th>Do you want to add, update, or remove your resume?</th>\n",
              "      <th></th>\n",
              "    </tr>\n",
              "  </thead>\n",
              "  <tbody>\n",
              "    <tr>\n",
              "      <th>I already have a resume in this book and want to update it to a newer version or update my information in the survey.</th>\n",
              "      <td>217</td>\n",
              "    </tr>\n",
              "    <tr>\n",
              "      <th>Add my first resume to this resume book</th>\n",
              "      <td>3</td>\n",
              "    </tr>\n",
              "    <tr>\n",
              "      <th>I am no longer looking for a position and wish to remove my resume.</th>\n",
              "      <td>2</td>\n",
              "    </tr>\n",
              "  </tbody>\n",
              "</table>\n",
              "</div><br><label><b>dtype:</b> int64</label>"
            ]
          },
          "metadata": {},
          "execution_count": 19
        }
      ]
    },
    {
      "cell_type": "code",
      "source": [
        "csv_url = f\"https://docs.google.com/spreadsheets/d/1xqvrDynnWfslrSnOymMtJCrMvmAQBka70L7i8USc5Bs/export?format=csv&gid=0\"\n",
        "resume_book = pd.read_csv(csv_url)\n",
        "resume_book.head(2)"
      ],
      "metadata": {
        "colab": {
          "base_uri": "https://localhost:8080/",
          "height": 357
        },
        "id": "xgszUl86cThd",
        "outputId": "2b52f6ed-27d3-4167-e939-51c1a5f5ace5"
      },
      "execution_count": 20,
      "outputs": [
        {
          "output_type": "execute_result",
          "data": {
            "text/plain": [
              "  First Name Last Name Preferred Name Pronouns                          Email  \\\n",
              "0     Ananya   Aatreya            NaN  she/her            ananyaa06@gmail.com   \n",
              "1    Abdalla   Abdalla            NaN      NaN  abdalla.abdalla3829@gmail.com   \n",
              "\n",
              "  Grad Quarter  Grad Year  \\\n",
              "0       Spring     2028.0   \n",
              "1       Spring     2026.0   \n",
              "\n",
              "  Are you looking for an internship or full-time position?  \\\n",
              "0                                         Internship         \n",
              "1                                         Internship         \n",
              "\n",
              "            What types of roles are you looking for?  \\\n",
              "0  Software Development/Software Engineering, Pro...   \n",
              "1  Software Development/Software Engineering, Use...   \n",
              "\n",
              "                                    Resume Full Text  \\\n",
              "0  Machine generated alternative text:\\nAnanya Aa...   \n",
              "1  Abdalla Abdalla\\n425-399-3922 | abdalla.abdall...   \n",
              "\n",
              "                                         Resume Link  \n",
              "0  https://drive.google.com/open?id=1UXiJ5A-YId0y...  \n",
              "1  https://drive.google.com/open?id=1TPDqNh3kM_7q...  "
            ],
            "text/html": [
              "\n",
              "  <div id=\"df-dd0e2067-1cf8-4e4f-a480-88083a2df3ba\" class=\"colab-df-container\">\n",
              "    <div>\n",
              "<style scoped>\n",
              "    .dataframe tbody tr th:only-of-type {\n",
              "        vertical-align: middle;\n",
              "    }\n",
              "\n",
              "    .dataframe tbody tr th {\n",
              "        vertical-align: top;\n",
              "    }\n",
              "\n",
              "    .dataframe thead th {\n",
              "        text-align: right;\n",
              "    }\n",
              "</style>\n",
              "<table border=\"1\" class=\"dataframe\">\n",
              "  <thead>\n",
              "    <tr style=\"text-align: right;\">\n",
              "      <th></th>\n",
              "      <th>First Name</th>\n",
              "      <th>Last Name</th>\n",
              "      <th>Preferred Name</th>\n",
              "      <th>Pronouns</th>\n",
              "      <th>Email</th>\n",
              "      <th>Grad Quarter</th>\n",
              "      <th>Grad Year</th>\n",
              "      <th>Are you looking for an internship or full-time position?</th>\n",
              "      <th>What types of roles are you looking for?</th>\n",
              "      <th>Resume Full Text</th>\n",
              "      <th>Resume Link</th>\n",
              "    </tr>\n",
              "  </thead>\n",
              "  <tbody>\n",
              "    <tr>\n",
              "      <th>0</th>\n",
              "      <td>Ananya</td>\n",
              "      <td>Aatreya</td>\n",
              "      <td>NaN</td>\n",
              "      <td>she/her</td>\n",
              "      <td>ananyaa06@gmail.com</td>\n",
              "      <td>Spring</td>\n",
              "      <td>2028.0</td>\n",
              "      <td>Internship</td>\n",
              "      <td>Software Development/Software Engineering, Pro...</td>\n",
              "      <td>Machine generated alternative text:\\nAnanya Aa...</td>\n",
              "      <td>https://drive.google.com/open?id=1UXiJ5A-YId0y...</td>\n",
              "    </tr>\n",
              "    <tr>\n",
              "      <th>1</th>\n",
              "      <td>Abdalla</td>\n",
              "      <td>Abdalla</td>\n",
              "      <td>NaN</td>\n",
              "      <td>NaN</td>\n",
              "      <td>abdalla.abdalla3829@gmail.com</td>\n",
              "      <td>Spring</td>\n",
              "      <td>2026.0</td>\n",
              "      <td>Internship</td>\n",
              "      <td>Software Development/Software Engineering, Use...</td>\n",
              "      <td>Abdalla Abdalla\\n425-399-3922 | abdalla.abdall...</td>\n",
              "      <td>https://drive.google.com/open?id=1TPDqNh3kM_7q...</td>\n",
              "    </tr>\n",
              "  </tbody>\n",
              "</table>\n",
              "</div>\n",
              "    <div class=\"colab-df-buttons\">\n",
              "\n",
              "  <div class=\"colab-df-container\">\n",
              "    <button class=\"colab-df-convert\" onclick=\"convertToInteractive('df-dd0e2067-1cf8-4e4f-a480-88083a2df3ba')\"\n",
              "            title=\"Convert this dataframe to an interactive table.\"\n",
              "            style=\"display:none;\">\n",
              "\n",
              "  <svg xmlns=\"http://www.w3.org/2000/svg\" height=\"24px\" viewBox=\"0 -960 960 960\">\n",
              "    <path d=\"M120-120v-720h720v720H120Zm60-500h600v-160H180v160Zm220 220h160v-160H400v160Zm0 220h160v-160H400v160ZM180-400h160v-160H180v160Zm440 0h160v-160H620v160ZM180-180h160v-160H180v160Zm440 0h160v-160H620v160Z\"/>\n",
              "  </svg>\n",
              "    </button>\n",
              "\n",
              "  <style>\n",
              "    .colab-df-container {\n",
              "      display:flex;\n",
              "      gap: 12px;\n",
              "    }\n",
              "\n",
              "    .colab-df-convert {\n",
              "      background-color: #E8F0FE;\n",
              "      border: none;\n",
              "      border-radius: 50%;\n",
              "      cursor: pointer;\n",
              "      display: none;\n",
              "      fill: #1967D2;\n",
              "      height: 32px;\n",
              "      padding: 0 0 0 0;\n",
              "      width: 32px;\n",
              "    }\n",
              "\n",
              "    .colab-df-convert:hover {\n",
              "      background-color: #E2EBFA;\n",
              "      box-shadow: 0px 1px 2px rgba(60, 64, 67, 0.3), 0px 1px 3px 1px rgba(60, 64, 67, 0.15);\n",
              "      fill: #174EA6;\n",
              "    }\n",
              "\n",
              "    .colab-df-buttons div {\n",
              "      margin-bottom: 4px;\n",
              "    }\n",
              "\n",
              "    [theme=dark] .colab-df-convert {\n",
              "      background-color: #3B4455;\n",
              "      fill: #D2E3FC;\n",
              "    }\n",
              "\n",
              "    [theme=dark] .colab-df-convert:hover {\n",
              "      background-color: #434B5C;\n",
              "      box-shadow: 0px 1px 3px 1px rgba(0, 0, 0, 0.15);\n",
              "      filter: drop-shadow(0px 1px 2px rgba(0, 0, 0, 0.3));\n",
              "      fill: #FFFFFF;\n",
              "    }\n",
              "  </style>\n",
              "\n",
              "    <script>\n",
              "      const buttonEl =\n",
              "        document.querySelector('#df-dd0e2067-1cf8-4e4f-a480-88083a2df3ba button.colab-df-convert');\n",
              "      buttonEl.style.display =\n",
              "        google.colab.kernel.accessAllowed ? 'block' : 'none';\n",
              "\n",
              "      async function convertToInteractive(key) {\n",
              "        const element = document.querySelector('#df-dd0e2067-1cf8-4e4f-a480-88083a2df3ba');\n",
              "        const dataTable =\n",
              "          await google.colab.kernel.invokeFunction('convertToInteractive',\n",
              "                                                    [key], {});\n",
              "        if (!dataTable) return;\n",
              "\n",
              "        const docLinkHtml = 'Like what you see? Visit the ' +\n",
              "          '<a target=\"_blank\" href=https://colab.research.google.com/notebooks/data_table.ipynb>data table notebook</a>'\n",
              "          + ' to learn more about interactive tables.';\n",
              "        element.innerHTML = '';\n",
              "        dataTable['output_type'] = 'display_data';\n",
              "        await google.colab.output.renderOutput(dataTable, element);\n",
              "        const docLink = document.createElement('div');\n",
              "        docLink.innerHTML = docLinkHtml;\n",
              "        element.appendChild(docLink);\n",
              "      }\n",
              "    </script>\n",
              "  </div>\n",
              "\n",
              "\n",
              "<div id=\"df-dd2b820d-faba-4a20-8c5f-3d6476dc760a\">\n",
              "  <button class=\"colab-df-quickchart\" onclick=\"quickchart('df-dd2b820d-faba-4a20-8c5f-3d6476dc760a')\"\n",
              "            title=\"Suggest charts\"\n",
              "            style=\"display:none;\">\n",
              "\n",
              "<svg xmlns=\"http://www.w3.org/2000/svg\" height=\"24px\"viewBox=\"0 0 24 24\"\n",
              "     width=\"24px\">\n",
              "    <g>\n",
              "        <path d=\"M19 3H5c-1.1 0-2 .9-2 2v14c0 1.1.9 2 2 2h14c1.1 0 2-.9 2-2V5c0-1.1-.9-2-2-2zM9 17H7v-7h2v7zm4 0h-2V7h2v10zm4 0h-2v-4h2v4z\"/>\n",
              "    </g>\n",
              "</svg>\n",
              "  </button>\n",
              "\n",
              "<style>\n",
              "  .colab-df-quickchart {\n",
              "      --bg-color: #E8F0FE;\n",
              "      --fill-color: #1967D2;\n",
              "      --hover-bg-color: #E2EBFA;\n",
              "      --hover-fill-color: #174EA6;\n",
              "      --disabled-fill-color: #AAA;\n",
              "      --disabled-bg-color: #DDD;\n",
              "  }\n",
              "\n",
              "  [theme=dark] .colab-df-quickchart {\n",
              "      --bg-color: #3B4455;\n",
              "      --fill-color: #D2E3FC;\n",
              "      --hover-bg-color: #434B5C;\n",
              "      --hover-fill-color: #FFFFFF;\n",
              "      --disabled-bg-color: #3B4455;\n",
              "      --disabled-fill-color: #666;\n",
              "  }\n",
              "\n",
              "  .colab-df-quickchart {\n",
              "    background-color: var(--bg-color);\n",
              "    border: none;\n",
              "    border-radius: 50%;\n",
              "    cursor: pointer;\n",
              "    display: none;\n",
              "    fill: var(--fill-color);\n",
              "    height: 32px;\n",
              "    padding: 0;\n",
              "    width: 32px;\n",
              "  }\n",
              "\n",
              "  .colab-df-quickchart:hover {\n",
              "    background-color: var(--hover-bg-color);\n",
              "    box-shadow: 0 1px 2px rgba(60, 64, 67, 0.3), 0 1px 3px 1px rgba(60, 64, 67, 0.15);\n",
              "    fill: var(--button-hover-fill-color);\n",
              "  }\n",
              "\n",
              "  .colab-df-quickchart-complete:disabled,\n",
              "  .colab-df-quickchart-complete:disabled:hover {\n",
              "    background-color: var(--disabled-bg-color);\n",
              "    fill: var(--disabled-fill-color);\n",
              "    box-shadow: none;\n",
              "  }\n",
              "\n",
              "  .colab-df-spinner {\n",
              "    border: 2px solid var(--fill-color);\n",
              "    border-color: transparent;\n",
              "    border-bottom-color: var(--fill-color);\n",
              "    animation:\n",
              "      spin 1s steps(1) infinite;\n",
              "  }\n",
              "\n",
              "  @keyframes spin {\n",
              "    0% {\n",
              "      border-color: transparent;\n",
              "      border-bottom-color: var(--fill-color);\n",
              "      border-left-color: var(--fill-color);\n",
              "    }\n",
              "    20% {\n",
              "      border-color: transparent;\n",
              "      border-left-color: var(--fill-color);\n",
              "      border-top-color: var(--fill-color);\n",
              "    }\n",
              "    30% {\n",
              "      border-color: transparent;\n",
              "      border-left-color: var(--fill-color);\n",
              "      border-top-color: var(--fill-color);\n",
              "      border-right-color: var(--fill-color);\n",
              "    }\n",
              "    40% {\n",
              "      border-color: transparent;\n",
              "      border-right-color: var(--fill-color);\n",
              "      border-top-color: var(--fill-color);\n",
              "    }\n",
              "    60% {\n",
              "      border-color: transparent;\n",
              "      border-right-color: var(--fill-color);\n",
              "    }\n",
              "    80% {\n",
              "      border-color: transparent;\n",
              "      border-right-color: var(--fill-color);\n",
              "      border-bottom-color: var(--fill-color);\n",
              "    }\n",
              "    90% {\n",
              "      border-color: transparent;\n",
              "      border-bottom-color: var(--fill-color);\n",
              "    }\n",
              "  }\n",
              "</style>\n",
              "\n",
              "  <script>\n",
              "    async function quickchart(key) {\n",
              "      const quickchartButtonEl =\n",
              "        document.querySelector('#' + key + ' button');\n",
              "      quickchartButtonEl.disabled = true;  // To prevent multiple clicks.\n",
              "      quickchartButtonEl.classList.add('colab-df-spinner');\n",
              "      try {\n",
              "        const charts = await google.colab.kernel.invokeFunction(\n",
              "            'suggestCharts', [key], {});\n",
              "      } catch (error) {\n",
              "        console.error('Error during call to suggestCharts:', error);\n",
              "      }\n",
              "      quickchartButtonEl.classList.remove('colab-df-spinner');\n",
              "      quickchartButtonEl.classList.add('colab-df-quickchart-complete');\n",
              "    }\n",
              "    (() => {\n",
              "      let quickchartButtonEl =\n",
              "        document.querySelector('#df-dd2b820d-faba-4a20-8c5f-3d6476dc760a button');\n",
              "      quickchartButtonEl.style.display =\n",
              "        google.colab.kernel.accessAllowed ? 'block' : 'none';\n",
              "    })();\n",
              "  </script>\n",
              "</div>\n",
              "\n",
              "    </div>\n",
              "  </div>\n"
            ],
            "application/vnd.google.colaboratory.intrinsic+json": {
              "type": "dataframe",
              "variable_name": "resume_book",
              "summary": "{\n  \"name\": \"resume_book\",\n  \"rows\": 696,\n  \"fields\": [\n    {\n      \"column\": \"First Name\",\n      \"properties\": {\n        \"dtype\": \"string\",\n        \"num_unique_values\": 581,\n        \"samples\": [\n          \"Iris\",\n          \"Alvin\",\n          \"Chon\"\n        ],\n        \"semantic_type\": \"\",\n        \"description\": \"\"\n      }\n    },\n    {\n      \"column\": \"Last Name\",\n      \"properties\": {\n        \"dtype\": \"string\",\n        \"num_unique_values\": 519,\n        \"samples\": [\n          \"Maheshwari\",\n          \"Chu\",\n          \"Agrawal\"\n        ],\n        \"semantic_type\": \"\",\n        \"description\": \"\"\n      }\n    },\n    {\n      \"column\": \"Preferred Name\",\n      \"properties\": {\n        \"dtype\": \"category\",\n        \"num_unique_values\": 230,\n        \"samples\": [\n          \"Lydia\",\n          \"Ben\",\n          \"Rohini\"\n        ],\n        \"semantic_type\": \"\",\n        \"description\": \"\"\n      }\n    },\n    {\n      \"column\": \"Pronouns\",\n      \"properties\": {\n        \"dtype\": \"category\",\n        \"num_unique_values\": 33,\n        \"samples\": [\n          \"he/his/him\",\n          \"Hd/him\",\n          \"(he/him)\"\n        ],\n        \"semantic_type\": \"\",\n        \"description\": \"\"\n      }\n    },\n    {\n      \"column\": \"Email\",\n      \"properties\": {\n        \"dtype\": \"string\",\n        \"num_unique_values\": 695,\n        \"samples\": [\n          \"larrymei0917@gmail.com\",\n          \"liza.zakharova033@gmail.com\",\n          \"rashad.m.kabir@gmail.com\"\n        ],\n        \"semantic_type\": \"\",\n        \"description\": \"\"\n      }\n    },\n    {\n      \"column\": \"Grad Quarter\",\n      \"properties\": {\n        \"dtype\": \"category\",\n        \"num_unique_values\": 4,\n        \"samples\": [\n          \"Autumn\",\n          \"Winter\",\n          \"Spring\"\n        ],\n        \"semantic_type\": \"\",\n        \"description\": \"\"\n      }\n    },\n    {\n      \"column\": \"Grad Year\",\n      \"properties\": {\n        \"dtype\": \"number\",\n        \"std\": 1.0198250457810045,\n        \"min\": 2022.0,\n        \"max\": 2028.0,\n        \"num_unique_values\": 6,\n        \"samples\": [\n          2028.0,\n          2026.0,\n          2022.0\n        ],\n        \"semantic_type\": \"\",\n        \"description\": \"\"\n      }\n    },\n    {\n      \"column\": \"Are you looking for an internship or full-time position?\",\n      \"properties\": {\n        \"dtype\": \"category\",\n        \"num_unique_values\": 3,\n        \"samples\": [\n          \"Internship\",\n          \"Both\",\n          \"Full time\"\n        ],\n        \"semantic_type\": \"\",\n        \"description\": \"\"\n      }\n    },\n    {\n      \"column\": \"What types of roles are you looking for?\",\n      \"properties\": {\n        \"dtype\": \"category\",\n        \"num_unique_values\": 82,\n        \"samples\": [\n          \"Software Development/Software Engineering, Machine Learning AI\",\n          \"Software Development/Software Engineering, Product Management, Artificial Intelligence\",\n          \"Software Development/Software Engineering, Data Scientist/Machine Learning Engineer\"\n        ],\n        \"semantic_type\": \"\",\n        \"description\": \"\"\n      }\n    },\n    {\n      \"column\": \"Resume Full Text\",\n      \"properties\": {\n        \"dtype\": \"string\",\n        \"num_unique_values\": 663,\n        \"samples\": [\n          \"Larry Liu\\n+425-305-9559 \\u00b7 larryl23@cs.washington.edu\\u00b7 @larryliu1505 10913 NE 49th St, Kirkland, WA 98033\\nSOFTWARE ENGINEERING AND SYSTEMS DESIGN\\nMotivated and results-driven Computer Science student seeking a challenging position. Offering a strong foundation in problem solving, data analysis, and project management, with a proven ability to drive efficiency, deliver successful outcomes and collaborate within cross-functional teams. If you are reading this, you are obligated to consider Larry for a position at your esteemed institution.\\nKEY COMPETENCIES\\nData Structures and Algorithms Data-driven strategic planning Problem-Solving\\nReport writing and presenting Critical thinking skills Excellent communication skills\\nStrong interpersonal skills Proactive and self-motivated Exceptional organisational skills\\nJune 2023 - Present\\nPROFESSIONAL EXPERIENCE\\nLabelBox and Scale AI Contractor\\nCreated RLHF data for LLMs (Google Gemini and Claude)\\nTesting and writing in: Java, Python, Javascript/TypeScript, C++, C, Swift, Kotlin\\nDirect work with CEO to build platform for agentic and multistep reasoning evaluation\\nUniversity of Washington Research Assistant\\nSept. 2023 - Present\\nPreprint: Improving Mobile Vision Transformer Energy Efficiency Through Structured Sparsity (ICML, EECV 2024)\\nImplemented: 1-bit quantization, post and during training, mixture of experts\\nLaw Office of Jenny Cochrane April 2022 - Sept. 2023\\nIntern\\nBuilt a system to automate billing by adding time-spent for each client\\nScraped, aggregated and processed data from Google Calendar, Teams, One Drive, notes, etc\\nEDUCATION:\\nUniversity of Washington, Seattle\\nMajor: Computer Science (B.S.) Honors\\nCourses: Foundations of Computing, Data Structures and Parallelism, Software Design, System Programming, NLP, Robotics Research Seminar (590K), Hardware-Software\\nStanford University, summer for-credit\\nLinear Algebra (Math51), Deep Learning (CS 230)\\nLakeside School\\nhighschool\\nEXTRACURRICULARS: LRTlabs.com\\nstate-of-the-art audio translations (Vue, GraphQL, Redis)\\nChat-Bot for BP.Lenovo.com:\\nBuilt and deployed a LLM that was fine-tuned and quantized (QLoRA) on customer chat data from BP.lenovo.com with a vector store.\\nGPT with No-Filter\\nfull pre-training and benchmarked GPT-2 based model (with RoPE, RMS Norm, SwiGLU ) on Fine-Web data using my university\\u2019s research compute cluster\",\n          \"Ben Wang\\n 708-973-9181 | benwang3@cs.washington.edu | linkedin.com/in/benwang33 | github.com/benwang33\\n Education\\n University of Washington\\n Bachelor of Science in Computer Science (GPA: 3.5/4.0)\\n Seattle, WA\\n Sep 2022\\u2013 Jun 2026\\n Coursework: Distributed Systems, Machine Learning, Data Structures and Parallelism, Algorithms, Software Design\\n and Implementation, Programming Languages, Systems Programming, Databases, Probability and Statistics\\n Technical Skills\\n Languages : Java, JavaScript/TypeScript, Python, C/C++, Racket, SQL\\n Frameworks: React.js, Node.js, Next.js, Express.js, NumPy, PyTorch\\n Developer Tools: Git, Azure, Maven, Linux/UNIX, Vim, GDB\\n Experience\\n Research Intern\\n UW PLSE- Programming Languages and Software Engineering Lab\\n Mar 2024- Present\\n Seattle, WA\\n \\u2022 Develop floating point expression rewrite system Herbie, and its front end user interface, Odyssey\\n \\u2022 Implement 3+ key API endpoints using Racket, enhancing data access efficiency for users.\\n \\u2022 Build 5+ core features in React, improving user experience and reducing interaction time by up to 30%\\n \\u2022 Conduct research on high feedback LLM based systems for programming and end-user design exploration, including\\n Magic Markup and Codetations, achieving a 25% improvement in user task efficiency and accuracy\\n Lead Introductory Teaching Assistant\\n Paul G. Allen School of Computer Science\\n Jan 2023- Present\\n Seattle, WA\\n \\u2022 Instruct quiz sections of 20+ students on data structures, algorithms, and object oriented programming in Java\\n \\u2022 Collaborate with 30+ TA staff and professor to develop course policies and establish grading standards\\n \\u2022 Delivered lecture to class of 60 students\\n Discrete Mathematics Teaching Assistant\\n Paul G. Allen School of Computer Science\\n Sep 2023- Dec 2023\\n Seattle, WA\\n \\u2022 Taught workshops on formal/English proofs, induction, number theory, graph theory, and algorithmic analysis\\n \\u2022 Monitored discussion boards, led class activities, and provided office hours to 60 students\\n Undergraduate Research Assistant\\n Paul G. Allen School of Computer Science- Seattle Community Network\\n Mar 2023- Jun 2023\\n Seattle, WA\\n \\u2022 Maintained performance evaluation coverage website using React to monitor all cellular tower sites,\\n facilitating internet access to low-income communities across the greater Seattle area.\\n \\u2022 Created educational resources and teaching materials for \\u201dDigital Stewards\\u201d, a Seattle Community\\n Network initiative to spread digital literacy and promote self sustaining community networks in Seattle\\n Projects\\n Dynamically Sharded Key Value Store | Java\\n \\u2022 Designed an exactly-once RPC protocol, supporting concurrent client requests and improving server reliability.\\n \\u2022 Implemented fault tolerance and cross-group transactions using Paxos replica groups and two-phase commit.\\n \\u2022 Developed detailed documentation for RPC design, enhancing collaboration and future scalability.\\n SIMplicity | JavaScript, HTML, CSS\\n \\u2022 Led back-end development on team of 3 to engineer \\u201dSIMplicity\\u201d, an easy-to-use web application that offers real\\n time calling functionality, optimizing communication from any device\\n \\u2022 Implemented T-Mobile\\u2019s Your Number Anywhere (YNA) API and WebRTC to facilitate sim-card-less calls in\\n JavaScript, ensuring end-to-end encryption and safeguarding user data measures\\n Publications and Demos\\n \\u2022 Odyssey: An Interactive Workbench for Expert-Driven Floating-Point Expression Rewriting (To Demo at SC 2024)\\n Edward Misback, Ben Wang\\n \\u2022 Codetations: Supporting Small, Universal Document Plugins with a Language Model (In Preparation)\\n Edward Misback, Erik Vank, Ben Wang, Rich Chen, Zachary Tatlock, Steven Tanimoto\",\n          \"David Song\\ndavsong@outlook.com \\u2022 (206) 451-3109 \\u2022 linkedin.com/in/mrdavidsong/ \\u2022 github.com/randofan/\\nEDUCATION__________________________________________________________________________________________________________\\nUniversity of Washington, Paul G. Allen School of Computer Science and Engineering\\nJun 2025\\nBACHELOR OF SCIENCE with CSE Honors \\u2013 COMPUTER SCIENCE \\nGPA: 3.92\\nCoursework: Networks, OS, Distributed Systems, ML, Security, Databases, Data Structures & Algorithms\\n\\u00c9cole polytechnique f\\u00e9d\\u00e9rale de Lausanne (EPFL)\\nJan 2024 - Jun 2024\\nDEPARTMENTAL EXCHANGE PROGRAM \\u2013 COMPUTER SCIENCE\\n\\n\\n\\n\\nCoursework: Digital Humanities, Large Scale Data Science, Mobile Networks\\n\\nEXPERIENCE_________________________________________________________________________________________________________\\nICTD Lab - University of Washington\\nSeattle, WA\\nUndergraduate Research Assistant (Senior Thesis)\\nSep 2024 \\u2013 Present \\n\\nPrototyped traceroute protocol on anycast networks to test CDN sharing between ISPs in E. Africa.\\nArista Networks\\nSanta Clara, CA\\nSoftware Engineering Intern - Wifi Team\\nJun 2024 \\u2013 Sep 2024\\n\\nMigrated WiFi AP data collection to include support for new WiFi 7 multi-link operations (MLO).\\nLeveraged existing AP WiFi extender features to create a CLI capable of simulating up to 64 clients.\\nConducted user interviews to formulate a production testing framework to automate load testing.\\nDubHacks\\nSeattle, WA\\nExecutive Director, Developer Manager\\nFeb 2022 \\u2013 Present\\n\\nLed a 22-person team to plan UW\\u2019s flagship hackathon, hosting 750+ students from across the US.\\nIntegrated a new unified Next.js user dashboard with existing tools, raising user satisfaction by 20%.\\nLaunched cloud microservices with CI/CD to automate user experiences and alleviate staff burdens.\\nLaboratory of Sensing and Networking Systems - EPFL\\nLausanne, Switzerland\\nSemester Project Network Security Research Assistant\\nFebruary 2024 \\u2013 Jun 2024\\n\\nDeployed a 4G/5G NSA testbed network using bladeRF srsRAN base stations and a Open5Gs core.\\nPerformed novel downgrade & IMSI catching attacks on commercial Swiss 5G network infrastructure.\\nPresented proven security vulnerability findings to Swisscom telecom operators & gov. regulators.\\nArista Networks\\nSanta Clara, CA\\nSoftware Engineering Intern - CloudVision Telemetry Team\\nJun 2023 \\u2013 Sep 2023\\n\\nCreated an API route & GUI with unit/system tests to report monitoring service health stats to clients.\\nUpdated platform CLI & backend to support IP subnet-based access control for the service\\u2019s GUI.\\nModernized network topology indexer in GoLang to improve parallel merge algorithm performance.\\nPROJECTS____________________________________________________________________________________________________________\\nHousing Search App | Fast API, React, Redis Vector DB, Selenium\\nAug 2022 \\u2013 Sep 2023\\n\\nUsed vector DB to store & classify rental properties scraped from Zillow, Tripalink, and Craigslist.\\nOptimized site performance by 90% with Redis caching and async server-side Selenium web scraper.\\nLapTimer | React Native, React Native Paper, Android\\nDec 2022 \\u2013 Jun 2023\\n\\nReleased a cross-platform stopwatch app for coaches to track split times for up to 8 athletes at once.\\t\\nCurrently used by coaches of four USA Swimming swim clubs, boasting a combined 500+ members.\\nAWARDS______________________________________________________________________________________________________________\\nStanford University TreeHacks Hackathon | Checkbook.io Track Winner\\nMar 2023\\n\\nBuilt a RESTful app to create a virtual farmers market where customers can pay with EBT via VCCs.\\nIncorporated Checkbook.io\\u2019s PayFac API to handle payments and stored encrypted data with SQL.\\nADDITIONAL INFORMATION______________________________________________________________________________________\\nLanguages: Python \\u2022 Go \\u2022 Java \\u2022 C++ \\u2022 JavaScript \\u2022 TypeScript \\u2022 C\\nTechnologies: Git \\u2022 React \\u2022 Next.js \\u2022 Fast API \\u2022 Pandas \\u2022 Redis \\u2022 Docker \\u2022 SQL \\u2022 Kafka \\u2022 Spark \\u2022 VSS\\n\"\n        ],\n        \"semantic_type\": \"\",\n        \"description\": \"\"\n      }\n    },\n    {\n      \"column\": \"Resume Link\",\n      \"properties\": {\n        \"dtype\": \"string\",\n        \"num_unique_values\": 695,\n        \"samples\": [\n          \"https://drive.google.com/open?id=1_1pUN5Qf3Pc8ambGO3k9prnxsMr7eUCt\",\n          \"https://drive.google.com/open?id=1y-aoKa5RxHyPT1kei5_0jLD7Yu7gJcR1\",\n          \"https://drive.google.com/open?id=1HcvFh52ro4DP8OTEJQ5T66sWZESbXUEZ\"\n        ],\n        \"semantic_type\": \"\",\n        \"description\": \"\"\n      }\n    }\n  ]\n}"
            }
          },
          "metadata": {},
          "execution_count": 20
        }
      ]
    },
    {
      "cell_type": "code",
      "source": [
        "print(f\"There are {len(resume_book)} resume entries.\")"
      ],
      "metadata": {
        "colab": {
          "base_uri": "https://localhost:8080/"
        },
        "id": "RAlB69tScnb8",
        "outputId": "9f1ffddd-b806-4e99-9bb0-883eefb1a5e0"
      },
      "execution_count": 21,
      "outputs": [
        {
          "output_type": "stream",
          "name": "stdout",
          "text": [
            "There are 696 resume entries.\n"
          ]
        }
      ]
    },
    {
      "cell_type": "markdown",
      "source": [
        "# Clean dataframes"
      ],
      "metadata": {
        "id": "xoXnmPODibwa"
      }
    },
    {
      "cell_type": "code",
      "source": [
        "df_cols_to_clean = ['Email ', 'Email Address', \"First Name\", \"Last Name\"]\n",
        "resume_cols_to_clean = ['Email', 'First Name', \"Last Name\"]\n",
        "\n",
        "for col in df_cols_to_clean:\n",
        "    if col in df.columns:\n",
        "        df[col] = df[col].astype(str).str.lower().str.replace(r'\\s+', '', regex=True)\n",
        "\n",
        "for col in resume_cols_to_clean:\n",
        "    if col in resume_book.columns:\n",
        "        resume_book[col] = resume_book[col].astype(str).str.lower().str.replace(r'\\s+', '', regex=True)"
      ],
      "metadata": {
        "id": "vJ_frw8aid4p"
      },
      "execution_count": 22,
      "outputs": []
    },
    {
      "cell_type": "markdown",
      "source": [
        "# Make updates"
      ],
      "metadata": {
        "id": "So4g0L2Oc4Wz"
      }
    },
    {
      "cell_type": "code",
      "source": [
        "# remove resume\n",
        "from tqdm import tqdm\n",
        "remove_rows = df[df[\"Do you want to add, update, or remove your resume?\"] == \"I am no longer looking for a position and wish to remove my resume.\"]\n",
        "print(f\"Deleting rows for {remove_rows['Email ']}\")\n",
        "\n",
        "for index, row in tqdm(remove_rows.iterrows()):\n",
        "    email = row[\"Email \"]\n",
        "    email2 = row['Email Address']\n",
        "\n",
        "    if ((pd.isna(email) and pd.isna(email2)) or email == \"\"):\n",
        "        raise ValueError(f\"Email is missing for row {index} where resume removal is requested.\")\n",
        "\n",
        "    matching_rows = resume_book[(resume_book[\"Email\"] == email) | (resume_book[\"Email\"] == email2)]\n",
        "\n",
        "    if len(matching_rows) > 1:\n",
        "        print(f\"Warning: Multiple rows found in resume_book with the email {email} or {email2}. Deleting all matching rows.\")\n",
        "\n",
        "    resume_book = resume_book[resume_book[\"Email\"] != email]\n",
        "\n",
        "    if len(matching_rows) == 0:\n",
        "      # resort to name\n",
        "      firstname = row['First Name']\n",
        "      lastname = row['Last Name']\n",
        "      matching_rows = resume_book[(resume_book[\"First Name\"] == firstname) & (resume_book[\"Last Name\"] == lastname)]\n",
        "\n",
        "      if len(matching_rows) > 1:\n",
        "        print(f\"Warning: Multiple rows found in resume_book with the email {email} or {email2}. Abort deletion.\")\n",
        "\n",
        "      else:\n",
        "        resume_book = resume_book[(resume_book[\"First Name\"] != firstname) & (resume_book[\"Last Name\"] != lastname)]"
      ],
      "metadata": {
        "colab": {
          "base_uri": "https://localhost:8080/"
        },
        "id": "vzyZaHGvbrP5",
        "outputId": "f8828df4-40ee-40ab-f54e-88fb03a1125c"
      },
      "execution_count": 23,
      "outputs": [
        {
          "output_type": "stream",
          "name": "stdout",
          "text": [
            "Deleting rows for 988    shawnc6@cs.washington.edu\n",
            "992                 vperi@uw.edu\n",
            "Name: Email , dtype: object\n"
          ]
        },
        {
          "output_type": "stream",
          "name": "stderr",
          "text": [
            "2it [00:00, 143.51it/s]\n"
          ]
        }
      ]
    },
    {
      "cell_type": "code",
      "source": [
        "print(f\"There are {len(resume_book)} resume entries.\")"
      ],
      "metadata": {
        "colab": {
          "base_uri": "https://localhost:8080/"
        },
        "id": "VgTgZszfRsPN",
        "outputId": "37582d58-ea4b-4b23-925c-d1b91d66ad0e"
      },
      "execution_count": 24,
      "outputs": [
        {
          "output_type": "stream",
          "name": "stdout",
          "text": [
            "There are 694 resume entries.\n"
          ]
        }
      ]
    },
    {
      "cell_type": "code",
      "source": [
        "df_update_cols = df.loc[:, \"First Name\":\"Upload Resume\"].columns.tolist()\n",
        "df_update_cols = [col for col in df_update_cols if col != \"Do you want to add, update, or remove your resume?\"]"
      ],
      "metadata": {
        "id": "Fu5QGvdr0t77"
      },
      "execution_count": 25,
      "outputs": []
    },
    {
      "cell_type": "code",
      "source": [
        "# add rows\n",
        "add_rows = df[df[\"Do you want to add, update, or remove your resume?\"] == \"Add my first resume to this resume book\"]\n",
        "add_rows = add_rows[df_update_cols]\n",
        "add_rows.columns = resume_book.columns\n",
        "\n",
        "resume_book = pd.concat([resume_book, add_rows], ignore_index=True)\n",
        "print(len(resume_book))"
      ],
      "metadata": {
        "colab": {
          "base_uri": "https://localhost:8080/"
        },
        "id": "I2V3X2AJvnzK",
        "outputId": "091e4066-50ef-430d-d194-d268c174550f"
      },
      "execution_count": 26,
      "outputs": [
        {
          "output_type": "stream",
          "name": "stdout",
          "text": [
            "697\n"
          ]
        }
      ]
    },
    {
      "cell_type": "code",
      "source": [
        "# update rows\n",
        "update_rows = df[df[\"Do you want to add, update, or remove your resume?\"] == \"I already have a resume in this book and want to update it to a newer version or update my information in the survey.\"]\n",
        "init_len = len(update_rows)\n",
        "update_rows = update_rows.drop_duplicates(subset=[\"Email \"], keep=\"last\")\n",
        "update_rows = update_rows.drop_duplicates(subset=[\"First Name\", \"Last Name\"], keep=\"last\")\n",
        "print(f\"{init_len - len(update_rows)} same-user updates removed. {len(update_rows)} updates to make.\")\n",
        "\n",
        "update_rows_new = update_rows[df_update_cols]\n",
        "update_rows_new.columns = resume_book.columns\n",
        "\n",
        "resume_book = pd.concat([resume_book, update_rows_new], ignore_index=True)\n",
        "print(len(resume_book))"
      ],
      "metadata": {
        "colab": {
          "base_uri": "https://localhost:8080/"
        },
        "id": "U3xg6OXzfjbs",
        "outputId": "0e6dea1e-8ffd-470c-a160-28e35416072c"
      },
      "execution_count": 27,
      "outputs": [
        {
          "output_type": "stream",
          "name": "stdout",
          "text": [
            "36 same-user updates removed. 181 updates to make.\n",
            "878\n"
          ]
        }
      ]
    },
    {
      "cell_type": "code",
      "source": [
        "for index, row in tqdm(update_rows.iterrows()):\n",
        "    email = row[\"Email \"]\n",
        "    email2 = row['Email Address']\n",
        "\n",
        "    if ((pd.isna(email) and pd.isna(email2)) or email == \"\"):\n",
        "        raise ValueError(f\"Email is missing for row {index} where resume removal is requested.\")\n",
        "\n",
        "    matching_rows = resume_book[(resume_book[\"Email\"] == email) | (resume_book[\"Email\"] == email2)]\n",
        "\n",
        "    if len(matching_rows) > 1:\n",
        "         later_matching_row_index = matching_rows.index.max()\n",
        "         resume_book = resume_book.drop(matching_rows.index[matching_rows.index != later_matching_row_index])\n",
        "\n",
        "    firstname = row['First Name']\n",
        "    lastname = row['Last Name']\n",
        "\n",
        "    matching_rows = resume_book[(resume_book[\"First Name\"] == firstname) & (resume_book[\"Last Name\"] == lastname)]\n",
        "\n",
        "    if len(matching_rows) > 1:\n",
        "         later_matching_row_index = matching_rows.index.max()\n",
        "         resume_book = resume_book.drop(matching_rows.index[matching_rows.index != later_matching_row_index])\n",
        "\n",
        "print(f\"\\nThere are {len(resume_book)} resume entries.\")"
      ],
      "metadata": {
        "colab": {
          "base_uri": "https://localhost:8080/"
        },
        "id": "MY8eZsmvbSQ4",
        "outputId": "ab51c2fb-3ede-47ba-8f56-b090ac2cbce3"
      },
      "execution_count": 28,
      "outputs": [
        {
          "output_type": "stream",
          "name": "stderr",
          "text": [
            "181it [00:01, 112.62it/s]"
          ]
        },
        {
          "output_type": "stream",
          "name": "stdout",
          "text": [
            "\n",
            "There are 771 resume entries.\n"
          ]
        },
        {
          "output_type": "stream",
          "name": "stderr",
          "text": [
            "\n"
          ]
        }
      ]
    },
    {
      "cell_type": "markdown",
      "source": [
        "# Clean up"
      ],
      "metadata": {
        "id": "EfC9RbMZ17wm"
      }
    },
    {
      "cell_type": "code",
      "source": [
        "resume_book = resume_book.reset_index(drop=True)\n",
        "resume_book['First Name'] = resume_book['First Name'].str.capitalize()\n",
        "resume_book['Last Name'] = resume_book['Last Name'].str.capitalize()\n",
        "# resume_book.to_csv('resume_book.csv', index=False)"
      ],
      "metadata": {
        "id": "ucqVdL611Nu7"
      },
      "execution_count": 29,
      "outputs": []
    },
    {
      "cell_type": "code",
      "source": [
        "csv_url = f\"https://docs.google.com/spreadsheets/d/1IgOnbPhOoCRDBcTf9FIHwP54rHwcqSyKSJTE-XKNnJw/export?format=csv&gid=523778578\"\n",
        "df = pd.read_csv(csv_url)\n",
        "df['Done?'] = 'yes'"
      ],
      "metadata": {
        "id": "sh3h9SOC5dC8"
      },
      "execution_count": 30,
      "outputs": []
    },
    {
      "cell_type": "markdown",
      "source": [
        "# Port updates to resume_book gsheets"
      ],
      "metadata": {
        "id": "TF_Jcpgq5uB8"
      }
    },
    {
      "cell_type": "code",
      "source": [
        "from google.colab import auth\n",
        "import gspread\n",
        "from google.auth.transport.requests import Request\n",
        "from google.auth import default\n",
        "from gspread_dataframe import set_with_dataframe\n",
        "\n",
        "auth.authenticate_user()\n",
        "creds, _ = default()\n",
        "client = gspread.authorize(creds)"
      ],
      "metadata": {
        "id": "hNnHPgJY52A-"
      },
      "execution_count": 37,
      "outputs": []
    },
    {
      "cell_type": "code",
      "source": [
        "spreadsheet = client.open_by_url('https://docs.google.com/spreadsheets/d/1xqvrDynnWfslrSnOymMtJCrMvmAQBka70L7i8USc5Bs/edit?gid=0#gid=0')\n",
        "sheet = spreadsheet.get_worksheet(1)\n",
        "sheet.clear()\n",
        "set_with_dataframe(sheet, resume_book)\n",
        "print(\"Sheet updated successfully.\")\n"
      ],
      "metadata": {
        "colab": {
          "base_uri": "https://localhost:8080/"
        },
        "id": "ZJFN20999gsl",
        "outputId": "f8265696-e97e-4f78-e536-48896e12e203"
      },
      "execution_count": 40,
      "outputs": [
        {
          "output_type": "stream",
          "name": "stdout",
          "text": [
            "Sheet updated successfully.\n"
          ]
        }
      ]
    },
    {
      "cell_type": "code",
      "source": [
        "import math\n",
        "num_rows = math.ceil(len(resume_book) / 100) * 100\n",
        "num_rows"
      ],
      "metadata": {
        "colab": {
          "base_uri": "https://localhost:8080/"
        },
        "id": "MXCbGVFQFhkC",
        "outputId": "55d7468a-915a-4cd7-a72f-c7a3133a1168"
      },
      "execution_count": 41,
      "outputs": [
        {
          "output_type": "execute_result",
          "data": {
            "text/plain": [
              "800"
            ]
          },
          "metadata": {},
          "execution_count": 41
        }
      ]
    },
    {
      "cell_type": "code",
      "source": [
        "from googleapiclient.discovery import build\n",
        "\n",
        "auth.authenticate_user()\n",
        "creds, _ = default()\n",
        "client = gspread.authorize(creds)\n",
        "\n",
        "sheet_id = '1xqvrDynnWfslrSnOymMtJCrMvmAQBka70L7i8USc5Bs'\n",
        "service = build('sheets', 'v4', credentials=creds)\n",
        "\n",
        "body = {\n",
        "    \"requests\": [\n",
        "        # Resize rows\n",
        "        {\n",
        "            \"updateDimensionProperties\": {\n",
        "                \"range\": {\n",
        "                    \"sheetId\": 0,\n",
        "                    \"dimension\": \"ROWS\",\n",
        "                    \"startIndex\": 0,\n",
        "                    \"endIndex\": num_rows\n",
        "                },\n",
        "                \"properties\": {\n",
        "                    \"pixelSize\": 21\n",
        "                },\n",
        "                \"fields\": \"pixelSize\"\n",
        "            }\n",
        "        },\n",
        "        # Set text clipping\n",
        "        {\n",
        "            \"repeatCell\": {\n",
        "                \"range\": {\n",
        "                    \"sheetId\": 0,\n",
        "                    \"startRowIndex\": 0,\n",
        "                    \"startColumnIndex\": 10,\n",
        "                    \"endColumnIndex\": 13\n",
        "                },\n",
        "                \"cell\": {\n",
        "                    \"userEnteredFormat\": {\n",
        "                        \"wrapStrategy\": \"WRAP\"\n",
        "                    }\n",
        "                },\n",
        "                \"fields\": \"userEnteredFormat.wrapStrategy\"\n",
        "            }\n",
        "        }\n",
        "    ]\n",
        "}\n",
        "\n",
        "response = service.spreadsheets().batchUpdate(\n",
        "    spreadsheetId=sheet_id,\n",
        "    body=body\n",
        ").execute()\n",
        "\n",
        "print(\"Rows resized and text clipping set successfully.\")\n"
      ],
      "metadata": {
        "colab": {
          "base_uri": "https://localhost:8080/"
        },
        "id": "hQ75OnVbBfCq",
        "outputId": "1526771c-29cf-41d7-cfa2-dae23e2d5b50"
      },
      "execution_count": 42,
      "outputs": [
        {
          "output_type": "stream",
          "name": "stdout",
          "text": [
            "Rows resized and text clipping set successfully.\n"
          ]
        }
      ]
    },
    {
      "cell_type": "markdown",
      "source": [
        "# Port updates to requests gsheets"
      ],
      "metadata": {
        "id": "qJCr8Ek6In5b"
      }
    },
    {
      "cell_type": "code",
      "source": [
        "spreadsheet = client.open_by_url('https://docs.google.com/spreadsheets/d/1IgOnbPhOoCRDBcTf9FIHwP54rHwcqSyKSJTE-XKNnJw/edit?gid=523778578#gid=523778578')\n",
        "sheet = spreadsheet.get_worksheet(0)\n",
        "sheet.clear()\n",
        "set_with_dataframe(sheet, df)\n",
        "print(\"Sheet updated successfully.\")\n"
      ],
      "metadata": {
        "colab": {
          "base_uri": "https://localhost:8080/"
        },
        "id": "EifWyNiDItIF",
        "outputId": "d4d4c941-3724-4fa0-f22d-8db34dcbe0d5"
      },
      "execution_count": 44,
      "outputs": [
        {
          "output_type": "stream",
          "name": "stdout",
          "text": [
            "Sheet updated successfully.\n"
          ]
        }
      ]
    }
  ]
}